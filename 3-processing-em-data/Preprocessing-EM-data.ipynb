{
 "cells": [
  {
   "cell_type": "markdown",
   "metadata": {},
   "source": [
    "# Preprocessing EM Data\n",
    "\n",
    "We can store and process EM in two different file formats. The first is NumPy array data format. We get this file format when we capture EM data from a GNURadio Companion flowgraph through ZMQ sockets. The second file format is the cfile format. We get this file format when we save EM data using File Sink block within the GRC flowgraph. In NumPy file format, we can simply load and handle data as an ordinary NumPy array. However, for cfile format files, we have to use **getData()** function from the **emvince** library that reads the cfile and convert it into a NumPy array. Once converted, we can continue manipulating the data from a cfile just like the data from NumPy file.\n",
    "\n",
    "In this Jupyter-Notebook, we will explore how to manipulate EM data using the API functions that are coming from two different file formats. \n",
    "\n",
    "- We are given two data files.\n",
    "    1. A NumPy data file - 3.hackrf-data.npy\n",
    "    2. A cFile data file - 3.hackrf-data.cfile\n",
    "- First, we will load and plot the data from the two files separately.\n",
    "- Then we will look at extracting only a segment of data from the files."
   ]
  },
  {
   "cell_type": "markdown",
   "metadata": {},
   "source": [
    "### 1. Importing required libraries"
   ]
  },
  {
   "cell_type": "code",
   "execution_count": null,
   "metadata": {},
   "outputs": [],
   "source": [
    "import matplotlib.pyplot as plt\n",
    "import numpy as np\n",
    "#from scipy import signal\n",
    "from emvincelib import iq, ml, stat\n",
    "\n",
    "%matplotlib inline"
   ]
  },
  {
   "cell_type": "markdown",
   "metadata": {},
   "source": [
    "### 2. Setting the configurations\n",
    "\n",
    "The sampling rate of the provided data files are both 10MHz. Therefore, we set it first."
   ]
  },
  {
   "cell_type": "code",
   "execution_count": null,
   "metadata": {},
   "outputs": [],
   "source": [
    "iq.sampleRate = 10e6"
   ]
  },
  {
   "cell_type": "markdown",
   "metadata": {},
   "source": [
    "### 3. How big the files are?"
   ]
  },
  {
   "cell_type": "code",
   "execution_count": null,
   "metadata": {},
   "outputs": [],
   "source": [
    "\n",
    "file1 = \"./data/preprocessing-em-data/hackrf-data.npy\"\n",
    "file2 = \"./data/preprocessing-em-data/hackrf-data.cfile\"\n",
    "\n",
    "\n",
    "duration1 = iq.getTimeDuration(file1, fileType=\"npy\")\n",
    "\n",
    "print(\"Time duration of the numpy file: \" + str(duration1) + \" seconds\")\n",
    "\n",
    "duration2 = iq.getTimeDuration(file2, fileType=\"cfile\")\n",
    "                                       \n",
    "print(\"Time duration of the cfile file: \" + str(duration2) + \" seconds\")"
   ]
  },
  {
   "cell_type": "markdown",
   "metadata": {},
   "source": [
    "### 4. Loading the entire data into memory"
   ]
  },
  {
   "cell_type": "code",
   "execution_count": null,
   "metadata": {},
   "outputs": [],
   "source": [
    "data_npy= np.load(file1, mmap_mode='r')\n",
    "length = len(data_npy)\n",
    "print(\"Number of samples in numpy data: \" + str(length))\n",
    "\n",
    "data_cfile= iq.getData(file2)\n",
    "length = len(data_cfile)\n",
    "print(\"Number of samples in cfile data: \" + str(length))"
   ]
  },
  {
   "cell_type": "markdown",
   "metadata": {},
   "source": [
    "#### Here's a more unified way to load data"
   ]
  },
  {
   "cell_type": "code",
   "execution_count": null,
   "metadata": {},
   "outputs": [],
   "source": [
    "data1 = iq.getSegmentData(file1, 0, duration1, fileType='npy')\n",
    "length = len(data1)\n",
    "print(\"Number of samples in numpy data: \" + str(length))\n",
    "\n",
    "data2 = iq.getSegmentData(file2, 0, duration2, fileType='cfile')\n",
    "length = len(data2)\n",
    "print(\"Number of samples in cfile data: \" + str(length))"
   ]
  },
  {
   "cell_type": "markdown",
   "metadata": {},
   "source": [
    "### 5. Plotting data\n"
   ]
  },
  {
   "cell_type": "markdown",
   "metadata": {},
   "source": [
    "#### Waveform Plot"
   ]
  },
  {
   "cell_type": "code",
   "execution_count": null,
   "metadata": {},
   "outputs": [],
   "source": [
    "iq.plotWaveform(data1)"
   ]
  },
  {
   "cell_type": "code",
   "execution_count": null,
   "metadata": {},
   "outputs": [],
   "source": [
    "iq.plotWaveform(data2)"
   ]
  },
  {
   "cell_type": "markdown",
   "metadata": {},
   "source": [
    "#### Scatter Plot"
   ]
  },
  {
   "cell_type": "code",
   "execution_count": null,
   "metadata": {},
   "outputs": [],
   "source": [
    "iq.plotScatter(data1)"
   ]
  },
  {
   "cell_type": "code",
   "execution_count": null,
   "metadata": {},
   "outputs": [],
   "source": [
    "iq.plotScatter(data2)"
   ]
  },
  {
   "cell_type": "markdown",
   "metadata": {},
   "source": [
    "#### FFT Plot"
   ]
  },
  {
   "cell_type": "code",
   "execution_count": null,
   "metadata": {},
   "outputs": [],
   "source": [
    "iq.plotFFT(data1)"
   ]
  },
  {
   "cell_type": "code",
   "execution_count": null,
   "metadata": {},
   "outputs": [],
   "source": [
    "iq.plotFFT(data2)"
   ]
  },
  {
   "cell_type": "markdown",
   "metadata": {},
   "source": [
    "#### PSD Plot"
   ]
  },
  {
   "cell_type": "code",
   "execution_count": null,
   "metadata": {},
   "outputs": [],
   "source": [
    "iq.plotPSD(data1)"
   ]
  },
  {
   "cell_type": "code",
   "execution_count": null,
   "metadata": {},
   "outputs": [],
   "source": [
    "iq.plotPSD(data2)"
   ]
  },
  {
   "cell_type": "markdown",
   "metadata": {},
   "source": [
    "#### Spectrogram Plot"
   ]
  },
  {
   "cell_type": "code",
   "execution_count": null,
   "metadata": {},
   "outputs": [],
   "source": [
    "iq.plotSpectrogram(data1)"
   ]
  },
  {
   "cell_type": "code",
   "execution_count": null,
   "metadata": {},
   "outputs": [],
   "source": [
    "iq.plotSpectrogram(data2)"
   ]
  },
  {
   "cell_type": "markdown",
   "metadata": {},
   "source": [
    "### 6. Extracting Smaller Segments of Data\n",
    "\n",
    "When the sampling rate is higher and the sampling time period is longer, we end up with large data files. So, sometimes we just need a smaller segment from an EM trace."
   ]
  },
  {
   "cell_type": "markdown",
   "metadata": {},
   "source": [
    "#### A segment from NumPy file\n",
    "\n",
    "Let's say we want to extract 5 milliseconds long segment of data starting from the time offset 2 milliseconds from **3.hackrf-data.npy** file.\n",
    "\n",
    "Sample rate: 10MHz\n",
    "Time period to skip: 2 milliseconds\n",
    "Time period to extract: 5 milliseconds"
   ]
  },
  {
   "cell_type": "code",
   "execution_count": null,
   "metadata": {},
   "outputs": [],
   "source": [
    "offset = 2e-3\n",
    "duration = 5e-3\n",
    "data1_segment = iq.getSegmentData(file1, offset, duration, fileType='npy')\n",
    "\n",
    "length = len(data1_segment)\n",
    "print(\"Number of samples in NumPy data segment: \" + str(length))\n",
    "iq.plotSpectrogram(data1_segment)"
   ]
  },
  {
   "cell_type": "markdown",
   "metadata": {},
   "source": [
    "#### A segment from cFile file\n",
    "\n",
    "Let's say we want to extract 5 milliseconds long segment of data starting from the time offset 2 milliseconds from **3.hackrf-data.cfile** file.\n",
    "\n",
    "We can directly do that with the **getSegmentData()** function in **emvince** library. It takes three parameters. The first is the cfile name. The second and third are the time offset and time segment size in seconds."
   ]
  },
  {
   "cell_type": "code",
   "execution_count": null,
   "metadata": {},
   "outputs": [],
   "source": [
    "offset = 2e-3\n",
    "duration = 5e-3\n",
    "data2_segment = iq.getSegmentData(file2, offset, duration, fileType='cfile')\n",
    "\n",
    "length = len(data2_segment)\n",
    "print(\"Number of samples in cfile data segment: \" + str(length))\n",
    "iq.plotSpectrogram(data2_segment)"
   ]
  },
  {
   "cell_type": "code",
   "execution_count": null,
   "metadata": {},
   "outputs": [],
   "source": []
  },
  {
   "cell_type": "code",
   "execution_count": null,
   "metadata": {},
   "outputs": [],
   "source": []
  },
  {
   "cell_type": "code",
   "execution_count": null,
   "metadata": {},
   "outputs": [],
   "source": []
  },
  {
   "cell_type": "code",
   "execution_count": null,
   "metadata": {},
   "outputs": [],
   "source": []
  }
 ],
 "metadata": {
  "kernelspec": {
   "display_name": "Python 3",
   "language": "python",
   "name": "python3"
  },
  "language_info": {
   "codemirror_mode": {
    "name": "ipython",
    "version": 3
   },
   "file_extension": ".py",
   "mimetype": "text/x-python",
   "name": "python",
   "nbconvert_exporter": "python",
   "pygments_lexer": "ipython3",
   "version": "3.7.6"
  }
 },
 "nbformat": 4,
 "nbformat_minor": 2
}
