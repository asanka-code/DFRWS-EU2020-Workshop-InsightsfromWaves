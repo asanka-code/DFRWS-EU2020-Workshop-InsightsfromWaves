{
 "cells": [
  {
   "cell_type": "markdown",
   "metadata": {},
   "source": [
    "# Arduino Program Classification\n",
    "\n",
    "In this Jupyter-Notebook, we are expected to apply the knowledge you have gained so far in order to build an ML classifier that can distinguish between 5 different programs running on an Arduino device. We are provided with 5 EM trace files in NumPy format. These data are captured with a HackRF SDR device with a sampling rate of 20MHz. Since ZMQ sockets were used during the data capture, the data file format is NumPy."
   ]
  },
  {
   "cell_type": "markdown",
   "metadata": {},
   "source": [
    "#### Import the libraries"
   ]
  },
  {
   "cell_type": "code",
   "execution_count": null,
   "metadata": {},
   "outputs": [],
   "source": [
    "import matplotlib.pyplot as plt\n",
    "import numpy as np\n",
    "from emvincelib import iq, ml, stat\n",
    "from sklearn import svm\n",
    "from sklearn.neural_network import MLPClassifier\n",
    "from scipy.fftpack import fft\n",
    "from sklearn import preprocessing\n",
    "\n",
    "%matplotlib inline"
   ]
  },
  {
   "cell_type": "markdown",
   "metadata": {},
   "source": [
    "### 1. Visualizing the 5 EM Data Files\n",
    "\n",
    "As the first move, let's plot the data in each file in order to get an idea on what they look like. Let's plot power spectral density (PSD) this time."
   ]
  },
  {
   "cell_type": "markdown",
   "metadata": {},
   "source": [
    "#### Visualization of file 1"
   ]
  },
  {
   "cell_type": "code",
   "execution_count": null,
   "metadata": {},
   "outputs": [],
   "source": [
    "iq.sampleRate = 20e6\n",
    "\n",
    "file1 = \"./data/arduino-program-classification/activity-1.npy\"\n",
    "\n",
    "duration1 = iq.getTimeDuration(file1, fileType=\"npy\")                      \n",
    "print(\"Time duration of the npy file: \" + str(duration1) + \" seconds\")\n",
    "\n",
    "data1 = iq.getSegmentData(file1, 0, duration1, fileType='npy')\n",
    "\n",
    "length = len(data1)\n",
    "print(\"Number of samples in numpy data: \" + str(length))\n",
    "\n",
    "iq.plotPSD(data1)"
   ]
  },
  {
   "cell_type": "markdown",
   "metadata": {},
   "source": [
    "#### Visualization of file 2"
   ]
  },
  {
   "cell_type": "code",
   "execution_count": null,
   "metadata": {},
   "outputs": [],
   "source": [
    "file2 = \"./data/arduino-program-classification/activity-2.npy\"\n",
    "\n",
    "duration2 = iq.getTimeDuration(file2, fileType=\"npy\")                      \n",
    "print(\"Time duration of the npy file: \" + str(duration2) + \" seconds\")\n",
    "\n",
    "data2 = iq.getSegmentData(file2, 0, duration2, fileType='npy')\n",
    "\n",
    "length = len(data2)\n",
    "print(\"Number of samples in numpy data: \" + str(length))\n",
    "\n",
    "iq.plotPSD(data2)"
   ]
  },
  {
   "cell_type": "markdown",
   "metadata": {},
   "source": [
    "#### Visualization of file 3"
   ]
  },
  {
   "cell_type": "code",
   "execution_count": null,
   "metadata": {},
   "outputs": [],
   "source": [
    "file3 = \"./data/arduino-program-classification/activity-3.npy\"\n",
    "\n",
    "duration3 = iq.getTimeDuration(file3, fileType=\"npy\")                      \n",
    "print(\"Time duration of the numpy file: \" + str(duration3) + \" seconds\")\n",
    "\n",
    "data3 = iq.getSegmentData(file3, 0, duration3, fileType='npy')\n",
    "\n",
    "length = len(data3)\n",
    "print(\"Number of samples in numpy data: \" + str(length))\n",
    "\n",
    "iq.plotPSD(data3)"
   ]
  },
  {
   "cell_type": "markdown",
   "metadata": {},
   "source": [
    "#### Visualization of file 4"
   ]
  },
  {
   "cell_type": "code",
   "execution_count": null,
   "metadata": {},
   "outputs": [],
   "source": [
    "file4 = \"./data/arduino-program-classification/activity-4.npy\"\n",
    "\n",
    "duration4 = iq.getTimeDuration(file4, fileType=\"npy\")                      \n",
    "print(\"Time duration of the numpy file: \" + str(duration4) + \" seconds\")\n",
    "\n",
    "data4 = iq.getSegmentData(file4, 0, duration4, fileType='npy')\n",
    "\n",
    "length = len(data4)\n",
    "print(\"Number of samples in numpy data: \" + str(length))\n",
    "\n",
    "iq.plotPSD(data4)"
   ]
  },
  {
   "cell_type": "markdown",
   "metadata": {},
   "source": [
    "#### Visualization of file 5"
   ]
  },
  {
   "cell_type": "code",
   "execution_count": null,
   "metadata": {},
   "outputs": [],
   "source": [
    "file5 = \"./data/arduino-program-classification/activity-5.npy\"\n",
    "\n",
    "duration5 = iq.getTimeDuration(file5, fileType=\"npy\")                      \n",
    "print(\"Time duration of the numpy file: \" + str(duration5) + \" seconds\")\n",
    "\n",
    "data5 = iq.getSegmentData(file5, 0, duration5, fileType='npy')\n",
    "\n",
    "length = len(data5)\n",
    "print(\"Number of samples in NumPy data: \" + str(length))\n",
    "\n",
    "iq.plotPSD(data5)"
   ]
  },
  {
   "cell_type": "markdown",
   "metadata": {},
   "source": [
    "### 2. Training and Testing Machine Learning Model"
   ]
  },
  {
   "cell_type": "code",
   "execution_count": null,
   "metadata": {},
   "outputs": [],
   "source": [
    "#iq.sampleRate = 20e6\n",
    "sliding_window = 0.01\n",
    "feature_vector_size = 1000\n",
    "\n",
    "ml.loadTrainingData(file1, iq.sampleRate, feature_vector_size, sliding_window, duration1, \"Class 1\")\n",
    "ml.loadTrainingData(file2, iq.sampleRate, feature_vector_size, sliding_window, duration2, \"Class 2\")\n",
    "ml.loadTrainingData(file3, iq.sampleRate, feature_vector_size, sliding_window, duration2, \"Class 3\")\n",
    "ml.loadTrainingData(file4, iq.sampleRate, feature_vector_size, sliding_window, duration2, \"Class 4\")\n",
    "ml.loadTrainingData(file5, iq.sampleRate, feature_vector_size, sliding_window, duration2, \"Class 5\")\n",
    "\n",
    "clf = ml.createClassifier()\n",
    "ml.trainAndTest(clf)"
   ]
  },
  {
   "cell_type": "code",
   "execution_count": null,
   "metadata": {},
   "outputs": [],
   "source": []
  },
  {
   "cell_type": "code",
   "execution_count": null,
   "metadata": {},
   "outputs": [],
   "source": []
  },
  {
   "cell_type": "code",
   "execution_count": null,
   "metadata": {},
   "outputs": [],
   "source": []
  },
  {
   "cell_type": "code",
   "execution_count": null,
   "metadata": {},
   "outputs": [],
   "source": []
  }
 ],
 "metadata": {
  "kernelspec": {
   "display_name": "Python 3",
   "language": "python",
   "name": "python3"
  },
  "language_info": {
   "codemirror_mode": {
    "name": "ipython",
    "version": 3
   },
   "file_extension": ".py",
   "mimetype": "text/x-python",
   "name": "python",
   "nbconvert_exporter": "python",
   "pygments_lexer": "ipython3",
   "version": "3.7.6"
  }
 },
 "nbformat": 4,
 "nbformat_minor": 2
}
