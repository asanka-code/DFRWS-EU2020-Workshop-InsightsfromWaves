{
 "cells": [
  {
   "cell_type": "markdown",
   "metadata": {},
   "source": [
    "# Developing a module for EMvidence"
   ]
  },
  {
   "cell_type": "code",
   "execution_count": null,
   "metadata": {},
   "outputs": [],
   "source": [
    "import matplotlib.pyplot as plt\n",
    "import numpy as np\n",
    "from emvincelib import iq, ml, stat\n",
    "from sklearn import svm\n",
    "from sklearn.neural_network import MLPClassifier\n",
    "from scipy.fftpack import fft\n",
    "from sklearn import preprocessing\n",
    "\n",
    "from joblib import dump, load\n",
    "import importlib.util\n",
    "\n",
    "%matplotlib inline"
   ]
  },
  {
   "cell_type": "markdown",
   "metadata": {},
   "source": [
    "### Training and Testing a Machine Learning Model\n",
    "\n",
    "With these insights we have gained during the previous step, now we can generate the **X** and **y** training dataset for a classifier. We do that by sending a sliding window over the data files and converting each window data segment into a feature vector. Each feature vector is appended to the **X** matrix along with the appropriate label for it in the **y** vector."
   ]
  },
  {
   "cell_type": "code",
   "execution_count": null,
   "metadata": {},
   "outputs": [],
   "source": [
    "iq.sampleRate = 32e3\n",
    "sliding_window = 0.1\n",
    "feature_vector_size = 50\n",
    "file1=\"./data/class-1.npy\"\n",
    "file2=\"./data/class-2.npy\"\n",
    "\n",
    "duration1 = iq.getTimeDuration(file1, fileType=\"npy\")\n",
    "duration2 = iq.getTimeDuration(file2, fileType=\"npy\")\n",
    "\n",
    "ml.loadTrainingData(file1, iq.sampleRate, feature_vector_size, sliding_window, duration1, \"Class 1\")\n",
    "ml.loadTrainingData(file2, iq.sampleRate, feature_vector_size, sliding_window, duration2, \"Class 2\")\n",
    "\n",
    "clf = ml.createClassifier()\n",
    "ml.trainAndTest(clf)"
   ]
  },
  {
   "cell_type": "markdown",
   "metadata": {},
   "source": [
    "### Saving the trained model to a file"
   ]
  },
  {
   "cell_type": "code",
   "execution_count": null,
   "metadata": {},
   "outputs": [],
   "source": [
    "module_name = \"binary-classifier\"\n",
    "\n",
    "\n",
    "dump(clf, \"./modules/\" + module_name + \"/ml-model.joblib\") "
   ]
  },
  {
   "cell_type": "markdown",
   "metadata": {},
   "source": [
    "### Packaging the files to a module\n",
    "\n",
    "Create a new folder with a suitable name for the module. I'll name it **binary-classifier**. Then, we need 4 files in it.\n",
    "\n",
    "- README.txt\n",
    "- config.config\n",
    "- ml-model.joblib\n",
    "- main.py"
   ]
  },
  {
   "cell_type": "markdown",
   "metadata": {},
   "source": [
    "#### README.txt"
   ]
  },
  {
   "cell_type": "markdown",
   "metadata": {},
   "source": [
    "This file should contain the basic details of the module and how it should be used."
   ]
  },
  {
   "cell_type": "markdown",
   "metadata": {},
   "source": [
    "#### config.config\n",
    "\n",
    "This file contains the required configurations for the module."
   ]
  },
  {
   "cell_type": "markdown",
   "metadata": {},
   "source": [
    "#### ml-model.joblib"
   ]
  },
  {
   "cell_type": "markdown",
   "metadata": {},
   "source": [
    "This is the trained model that we saved previously."
   ]
  },
  {
   "cell_type": "markdown",
   "metadata": {},
   "source": [
    "#### main.py\n",
    "\n",
    "Module can contain one or more Python files. However, it has to contain at least this **main.py** file."
   ]
  },
  {
   "cell_type": "markdown",
   "metadata": {},
   "source": [
    "#### Completing the module\n",
    "\n",
    "Now, copy those 4 files into a folder named as **binary-classifier** and create a ZIP file. You can now import this into EMvidence as a module."
   ]
  },
  {
   "cell_type": "markdown",
   "metadata": {},
   "source": [
    "### Testing the Module"
   ]
  },
  {
   "cell_type": "code",
   "execution_count": null,
   "metadata": {},
   "outputs": [],
   "source": [
    "def loadModule(module_path):\n",
    "    spec = importlib.util.spec_from_file_location(\"main\", module_path)\n",
    "    mod = importlib.util.module_from_spec(spec)\n",
    "    spec.loader.exec_module(mod)\n",
    "    return mod\n",
    "\n",
    "module_path = \"./modules/\" + str(module_name) + \"/\" + \"main.py\"\n",
    "# loading module\n",
    "mod = loadModule(module_path)\n",
    "# calling module functions\n",
    "mod.initialize(1, \"./data/class-1.npy\", \"./results\")\n",
    "results = mod.getResults()\n",
    "print(\"Module results: \" + str(results))"
   ]
  },
  {
   "cell_type": "code",
   "execution_count": null,
   "metadata": {},
   "outputs": [],
   "source": []
  }
 ],
 "metadata": {
  "kernelspec": {
   "display_name": "Python 3",
   "language": "python",
   "name": "python3"
  },
  "language_info": {
   "codemirror_mode": {
    "name": "ipython",
    "version": 3
   },
   "file_extension": ".py",
   "mimetype": "text/x-python",
   "name": "python",
   "nbconvert_exporter": "python",
   "pygments_lexer": "ipython3",
   "version": "3.7.6"
  }
 },
 "nbformat": 4,
 "nbformat_minor": 2
}
